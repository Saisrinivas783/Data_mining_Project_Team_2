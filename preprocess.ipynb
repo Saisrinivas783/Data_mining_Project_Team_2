import random
import os
import shutil

class shift_files:
    def __init__(self):
        source = 'train'
        destination_1 = 'byteFiles'
        destination_2 = 'asmFiles'

        if not os.path.isdir(destination_1):
            os.makedirs(destination_1)
        if not os.path.isdir(destination_2):
            os.makedirs(destination_2)

        self.source = source
        self.destination_1 = destination_1
        self.destination_2 = destination_2

    @staticmethod
    def process(source, destination_1, destination_2):
        if os.path.isdir(source):
            data_files = os.listdir(source)
            asm_files = {}
            bytes_files = {}

            for file in data_files:
                if file.endswith(".asm"):
                    asm_files[file.split('.')[0]] = file
                elif file.endswith(".bytes"):
                    bytes_files[file.split('.')[0]] = file

            selected_bytes_keys = random.sample(list(bytes_files.keys()), 3000)

            for key in selected_bytes_keys:
                asm_file = asm_files.get(key + ".asm")
                if asm_file:
                    shutil.move(os.path.join(source, bytes_files[key]), destination_1)
                    shutil.move(os.path.join(source, asm_file), destination_2)

    def execute(self):
        shift_files.process(self.source, self.destination_1, self.destination_2)

# Creating an instance of the class and executing the process
shift_files_instance = shift_files()
shift_files_instance.execute()
